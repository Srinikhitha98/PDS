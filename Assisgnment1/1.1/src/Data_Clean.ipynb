{
  "nbformat": 4,
  "nbformat_minor": 0,
  "metadata": {
    "colab": {
      "provenance": []
    },
    "kernelspec": {
      "name": "python3",
      "display_name": "Python 3"
    },
    "language_info": {
      "name": "python"
    }
  },
  "cells": [
    {
      "cell_type": "code",
      "execution_count": 1,
      "metadata": {
        "id": "rolW8bPJVY9t"
      },
      "outputs": [],
      "source": [
        "from google.colab import drive"
      ]
    },
    {
      "cell_type": "code",
      "source": [
        "import pandas as pd\n",
        "\n",
        "# Read the raw data file\n",
        "df = pd.read_csv('/content/rawdata.csv')\n",
        "\n",
        "# Clean up the data\n",
        "df = df.dropna() # Drop any rows with missing values\n",
        "df = df.reset_index(drop=True) # Reset the row index\n",
        "df = df.rename(columns={'Height (Inches)': 'Height', 'Weight (Pounds)': 'Weight'})#Rename the names \n",
        "df['Frailty'] = df['Frailty'].replace({'Y': True, 'N': False}) # Convert the 'Frailty' column to boolean values\n",
        "\n",
        "\n",
        "# Save the cleaned data to a new file\n",
        "df.to_csv('/content/cleaned_data.csv', index=False)\n"
      ],
      "metadata": {
        "id": "hs94HGilV7XE"
      },
      "execution_count": 7,
      "outputs": []
    },
    {
      "cell_type": "code",
      "source": [],
      "metadata": {
        "id": "3ffCp-HgWDM_"
      },
      "execution_count": null,
      "outputs": []
    }
  ]
}